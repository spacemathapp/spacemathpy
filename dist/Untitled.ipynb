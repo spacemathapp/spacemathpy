{
 "cells": [
  {
   "cell_type": "code",
   "execution_count": 1,
   "id": "8b68a078-740a-4673-82f9-e645f7e0f904",
   "metadata": {},
   "outputs": [
    {
     "name": "stdout",
     "output_type": "stream",
     "text": [
      "Processing ./spacemathpy-0.1.tar.gz\n",
      "Requirement already satisfied: sympy in /opt/JupyterLab/resources/jlab_server/lib/python3.8/site-packages (from spacemathpy==0.1) (1.5.1)\n",
      "Requirement already satisfied: pandas in /opt/JupyterLab/resources/jlab_server/lib/python3.8/site-packages (from spacemathpy==0.1) (1.3.3)\n",
      "Requirement already satisfied: numpy in /opt/JupyterLab/resources/jlab_server/lib/python3.8/site-packages (from spacemathpy==0.1) (1.21.2)\n",
      "Requirement already satisfied: matplotlib in /opt/JupyterLab/resources/jlab_server/lib/python3.8/site-packages (from spacemathpy==0.1) (3.4.3)\n",
      "Requirement already satisfied: python-dateutil>=2.7 in /opt/JupyterLab/resources/jlab_server/lib/python3.8/site-packages (from matplotlib->spacemathpy==0.1) (2.8.2)\n",
      "Requirement already satisfied: pillow>=6.2.0 in /opt/JupyterLab/resources/jlab_server/lib/python3.8/site-packages (from matplotlib->spacemathpy==0.1) (8.3.2)\n",
      "Requirement already satisfied: pyparsing>=2.2.1 in /opt/JupyterLab/resources/jlab_server/lib/python3.8/site-packages (from matplotlib->spacemathpy==0.1) (2.4.7)\n",
      "Requirement already satisfied: cycler>=0.10 in /opt/JupyterLab/resources/jlab_server/lib/python3.8/site-packages (from matplotlib->spacemathpy==0.1) (0.10.0)\n",
      "Requirement already satisfied: kiwisolver>=1.0.1 in /opt/JupyterLab/resources/jlab_server/lib/python3.8/site-packages (from matplotlib->spacemathpy==0.1) (1.3.2)\n",
      "Requirement already satisfied: six in /opt/JupyterLab/resources/jlab_server/lib/python3.8/site-packages (from cycler>=0.10->matplotlib->spacemathpy==0.1) (1.16.0)\n",
      "Requirement already satisfied: pytz>=2017.3 in /opt/JupyterLab/resources/jlab_server/lib/python3.8/site-packages (from pandas->spacemathpy==0.1) (2021.1)\n",
      "Requirement already satisfied: mpmath>=0.19 in /opt/JupyterLab/resources/jlab_server/lib/python3.8/site-packages (from sympy->spacemathpy==0.1) (1.2.1)\n",
      "Building wheels for collected packages: spacemathpy\n",
      "  Building wheel for spacemathpy (setup.py) ... \u001b[?25ldone\n",
      "\u001b[?25h  Created wheel for spacemathpy: filename=spacemathpy-0.1-py3-none-any.whl size=12011 sha256=40a34f7778a62a33a5f45fef48c2d517a9fbeb1b679d962ed4707015bac9c5e9\n",
      "  Stored in directory: /home/moiseszm/.cache/pip/wheels/47/a4/5f/79d0f23fb575dffa0958972492c6ea5e41975a949d99f17dbd\n",
      "Successfully built spacemathpy\n",
      "Installing collected packages: spacemathpy\n",
      "Successfully installed spacemathpy-0.1\n",
      "Note: you may need to restart the kernel to use updated packages.\n"
     ]
    }
   ],
   "source": [
    "%pip install spacemathpy-0.1.tar.gz"
   ]
  },
  {
   "cell_type": "code",
   "execution_count": null,
   "id": "8d4fa55b-46c6-4b54-82a6-369a450b673e",
   "metadata": {},
   "outputs": [],
   "source": []
  }
 ],
 "metadata": {
  "kernelspec": {
   "display_name": "Python 3 (ipykernel)",
   "language": "python",
   "name": "python3"
  },
  "language_info": {
   "codemirror_mode": {
    "name": "ipython",
    "version": 3
   },
   "file_extension": ".py",
   "mimetype": "text/x-python",
   "name": "python",
   "nbconvert_exporter": "python",
   "pygments_lexer": "ipython3",
   "version": "3.8.12"
  }
 },
 "nbformat": 4,
 "nbformat_minor": 5
}
